{
 "cells": [
  {
   "cell_type": "markdown",
   "metadata": {},
   "source": [
    "# Deep Learning with TensorFlow\n",
    "\n",
    "Classical machine learning relies on using statistics to determine relationships between features and labels, and can be very effective for creating predictive models. However, a massive growth in the availability of data coupled with advances in the computing technology required to process it has led to the emergence of new machine learning techniques that mimic the way the brain processes information in a structure called an artificial neural network.\n",
    "\n",
    "TensorFlow is a framework for creating machine learning models, including deep neural networks (DNNs). In this example, we'll use Tensorflow to create a simple neural network that classifies penguins into species based on the length and depth of their culmen (bill), their flipper length, and their body mass.\n",
    "\n",
    "> **Citation**: The penguins dataset used in the this exercise is a subset of data collected and made available by [Dr. Kristen\n",
    "Gorman](https://www.uaf.edu/cfos/people/faculty/detail/kristen-gorman.php)\n",
    "and the [Palmer Station, Antarctica LTER](https://pal.lternet.edu/), a\n",
    "member of the [Long Term Ecological Research\n",
    "Network](https://lternet.edu/).\n",
    "\n",
    "## Explore the dataset\n",
    "\n",
    "Before we start using TensorFlow to create a model, let's load the data we need from the Palmer Islands penguins dataset, which contains observations of three different species of penguin.\n",
    "\n",
    "> **Note**: In reality, you can solve the penguin classification problem easily using classical machine learning techniques without the need for a deep learning model; but it's a useful, easy to understand dataset with which to demonstrate the principles of neural networks in this notebook."
   ]
  },
  {
   "attachments": {},
   "cell_type": "markdown",
   "metadata": {},
   "source": [
    "# TensorFlowによるディープラーニング\n",
    "\n",
    "古典的な機械学習は、統計学を用いて特徴量とラベルの関係を決定するもので、予測モデルの作成に非常に効果的である。しかし、データの利用可能性の大幅な増加と、それを処理するために必要なコンピューティング技術の進歩により、人工ニューラルネットワークと呼ばれる構造で脳の情報処理方法を模倣する新しい機械学習技術が出現しました。\n",
    "\n",
    "TensorFlowは、ディープニューラルネットワーク（DNN）を含む、機械学習モデルを作成するためのフレームワークである。この例では、Tensorflowを使用して、稈（嘴）の長さと深さ、フリッパーの長さ、および体格に基づいてペンギンを種に分類する簡単なニューラルネットワークを作成します。\n",
    "\n",
    "> (注1) **引用**: この演習で使用したペンギンのデータセットは、[Dr. Kristen]によって収集され利用可能になったデータのサブセットです。\n",
    "ゴーマン】(https://www.uaf.edu/cfos/people/faculty/detail/kristen-gorman.php)\n",
    "と、【Palmer Station, Antarctica LTER】(https://pal.lternet.edu/)の2つがある。\n",
    "長期生態学研究」メンバー\n",
    "ネットワーク](https://lternet.edu/)。\n",
    "\n",
    "## データセットを調べる\n",
    "\n",
    "TensorFlowを使ってモデルを作成する前に、3種類のペンギンの観測データを含むPalmer Islands penguinsデータセットから必要なデータをロードしてみましょう。\n",
    "\n",
    "> **注**です。しかし、このノートブックでニューラルネットワークの原理を実証するための、便利でわかりやすいデータセットです。\n",
    "\n",
    "www.DeepL.com/Translator（無料版）で翻訳しました。"
   ]
  },
  {
   "cell_type": "code",
   "execution_count": 14,
   "metadata": {},
   "outputs": [
    {
     "name": "stderr",
     "output_type": "stream",
     "text": [
      "/var/folders/4d/ygqjdt3d7cq593qgrbs9wbnw0000gn/T/ipykernel_23522/1646010116.py:15: FutureWarning: The frame.append method is deprecated and will be removed from pandas in a future version. Use pandas.concat instead.\n",
      "  penguins = penguins.append(penguins)\n",
      "/var/folders/4d/ygqjdt3d7cq593qgrbs9wbnw0000gn/T/ipykernel_23522/1646010116.py:15: FutureWarning: The frame.append method is deprecated and will be removed from pandas in a future version. Use pandas.concat instead.\n",
      "  penguins = penguins.append(penguins)\n"
     ]
    },
    {
     "data": {
      "text/html": [
       "<div>\n",
       "<style scoped>\n",
       "    .dataframe tbody tr th:only-of-type {\n",
       "        vertical-align: middle;\n",
       "    }\n",
       "\n",
       "    .dataframe tbody tr th {\n",
       "        vertical-align: top;\n",
       "    }\n",
       "\n",
       "    .dataframe thead th {\n",
       "        text-align: right;\n",
       "    }\n",
       "</style>\n",
       "<table border=\"1\" class=\"dataframe\">\n",
       "  <thead>\n",
       "    <tr style=\"text-align: right;\">\n",
       "      <th></th>\n",
       "      <th>CulmenLength</th>\n",
       "      <th>CulmenDepth</th>\n",
       "      <th>FlipperLength</th>\n",
       "      <th>BodyMass</th>\n",
       "      <th>Species</th>\n",
       "    </tr>\n",
       "  </thead>\n",
       "  <tbody>\n",
       "    <tr>\n",
       "      <th>137</th>\n",
       "      <td>40.2</td>\n",
       "      <td>20.1</td>\n",
       "      <td>20.0</td>\n",
       "      <td>39.75</td>\n",
       "      <td>0</td>\n",
       "    </tr>\n",
       "    <tr>\n",
       "      <th>317</th>\n",
       "      <td>46.2</td>\n",
       "      <td>17.5</td>\n",
       "      <td>18.7</td>\n",
       "      <td>36.50</td>\n",
       "      <td>2</td>\n",
       "    </tr>\n",
       "    <tr>\n",
       "      <th>98</th>\n",
       "      <td>33.1</td>\n",
       "      <td>16.1</td>\n",
       "      <td>17.8</td>\n",
       "      <td>29.00</td>\n",
       "      <td>0</td>\n",
       "    </tr>\n",
       "    <tr>\n",
       "      <th>300</th>\n",
       "      <td>46.7</td>\n",
       "      <td>17.9</td>\n",
       "      <td>19.5</td>\n",
       "      <td>33.00</td>\n",
       "      <td>2</td>\n",
       "    </tr>\n",
       "    <tr>\n",
       "      <th>135</th>\n",
       "      <td>41.1</td>\n",
       "      <td>17.5</td>\n",
       "      <td>19.0</td>\n",
       "      <td>39.00</td>\n",
       "      <td>0</td>\n",
       "    </tr>\n",
       "    <tr>\n",
       "      <th>108</th>\n",
       "      <td>38.1</td>\n",
       "      <td>17.0</td>\n",
       "      <td>18.1</td>\n",
       "      <td>31.75</td>\n",
       "      <td>0</td>\n",
       "    </tr>\n",
       "    <tr>\n",
       "      <th>278</th>\n",
       "      <td>51.3</td>\n",
       "      <td>19.2</td>\n",
       "      <td>19.3</td>\n",
       "      <td>36.50</td>\n",
       "      <td>2</td>\n",
       "    </tr>\n",
       "    <tr>\n",
       "      <th>12</th>\n",
       "      <td>41.1</td>\n",
       "      <td>17.6</td>\n",
       "      <td>18.2</td>\n",
       "      <td>32.00</td>\n",
       "      <td>0</td>\n",
       "    </tr>\n",
       "    <tr>\n",
       "      <th>158</th>\n",
       "      <td>45.4</td>\n",
       "      <td>14.6</td>\n",
       "      <td>21.1</td>\n",
       "      <td>48.00</td>\n",
       "      <td>1</td>\n",
       "    </tr>\n",
       "    <tr>\n",
       "      <th>233</th>\n",
       "      <td>52.5</td>\n",
       "      <td>15.6</td>\n",
       "      <td>22.1</td>\n",
       "      <td>54.50</td>\n",
       "      <td>1</td>\n",
       "    </tr>\n",
       "  </tbody>\n",
       "</table>\n",
       "</div>"
      ],
      "text/plain": [
       "     CulmenLength  CulmenDepth  FlipperLength  BodyMass  Species\n",
       "137          40.2         20.1           20.0     39.75        0\n",
       "317          46.2         17.5           18.7     36.50        2\n",
       "98           33.1         16.1           17.8     29.00        0\n",
       "300          46.7         17.9           19.5     33.00        2\n",
       "135          41.1         17.5           19.0     39.00        0\n",
       "108          38.1         17.0           18.1     31.75        0\n",
       "278          51.3         19.2           19.3     36.50        2\n",
       "12           41.1         17.6           18.2     32.00        0\n",
       "158          45.4         14.6           21.1     48.00        1\n",
       "233          52.5         15.6           22.1     54.50        1"
      ]
     },
     "execution_count": 14,
     "metadata": {},
     "output_type": "execute_result"
    }
   ],
   "source": [
    "import pandas as pd\n",
    "\n",
    "# load the training dataset (excluding rows with null values)\n",
    "penguins = pd.read_csv('data/penguins.csv').dropna()\n",
    "\n",
    "# Deep Learning models work best when features are on similar scales\n",
    "# In a real solution, we'd implement some custom normalization for each feature, but to keep things simple\n",
    "# we'll just rescale the FlipperLength and BodyMass so they're on a similar scale to the bill measurements\n",
    "# ディープラーニングのモデルは、特徴が同じようなスケールであるときに最もよく機能する\n",
    "# 実際のソリューションでは、各機能ごとにカスタマイズされた正規化を実装することになりますが、物事をシンプルに考えるために\n",
    "# FlipperLengthとBodyMassを再スケーリングして、法案の測定値と同様のスケールにします。\n",
    "penguins['FlipperLength'] = penguins['FlipperLength']/10\n",
    "penguins['FlipperLength'] = penguins['FlipperLength']/10\n",
    "penguins['BodyMass'] = penguins['BodyMass']/100\n",
    "\n",
    "# データセットが小さすぎてディープラーニングに使えない\n",
    "# そこで、オーバーサンプリングしてサイズを大きくする\n",
    "for i in range(1,3):\n",
    "    penguins = penguins.append(penguins)\n",
    "\n",
    "# Display a random sample of 10 observations\n",
    "sample = penguins.sample(10)\n",
    "sample"
   ]
  },
  {
   "cell_type": "markdown",
   "metadata": {},
   "source": [
    "The **Species** column is the label our model will predict. Each label value represents a class of penguin species, encoded as 0, 1, or 2. The following code shows the actual species to which these class labels corrrespond."
   ]
  },
  {
   "attachments": {},
   "cell_type": "markdown",
   "metadata": {},
   "source": [
    "Species**の列は、モデルが予測するラベルです。各ラベル値はペンギンの種のクラスを表し、0、1、または2として符号化されます。以下のコードは、これらのクラスラベルが対応する実際の種を表しています。"
   ]
  },
  {
   "cell_type": "code",
   "execution_count": 15,
   "metadata": {
    "tags": []
   },
   "outputs": [
    {
     "name": "stdout",
     "output_type": "stream",
     "text": [
      "['CulmenLength' 'CulmenDepth' 'FlipperLength' 'BodyMass' 'Species'] SpeciesName\n",
      "[ 45.8 14.6 21.0 42.0 1 ] Gentoo\n",
      "[ 52.8 20.0 20.5 45.5 2 ] Chinstrap\n",
      "[ 50.7 15.0 22.3 55.5 1 ] Gentoo\n",
      "[ 45.5 13.9 21.0 42.0 1 ] Gentoo\n",
      "[ 35.7 17.0 18.9 33.5 0 ] Adelie\n",
      "[ 46.9 16.6 19.2 27.0 2 ] Chinstrap\n",
      "[ 36.8 18.5 19.3 35.0 0 ] Adelie\n",
      "[ 50.9 17.9 19.6 36.75 2 ] Chinstrap\n",
      "[ 38.1 17.0 18.1 31.75 0 ] Adelie\n",
      "[ 51.3 14.2 21.8 53.0 1 ] Gentoo\n"
     ]
    }
   ],
   "source": [
    "penguin_classes = ['Adelie', 'Gentoo', 'Chinstrap']\n",
    "print(sample.columns[0:5].values, 'SpeciesName')\n",
    "for index, row in penguins.sample(10).iterrows():\n",
    "    print('[',row[0], row[1], row[2],row[3], int(row[4]), ']',penguin_classes[int(row[-1])])"
   ]
  },
  {
   "cell_type": "markdown",
   "metadata": {},
   "source": [
    "As is common in a supervised learning problem, we'll split the dataset into a set of records with which to train the model, and a smaller set with which to validate the trained model."
   ]
  },
  {
   "attachments": {},
   "cell_type": "markdown",
   "metadata": {},
   "source": [
    "教師あり学習でよくあることですが、データセットを、モデルを学習するためのレコードセットと、学習したモデルを検証するための小さなセットに分けます。"
   ]
  },
  {
   "cell_type": "code",
   "execution_count": 30,
   "metadata": {
    "tags": []
   },
   "outputs": [
    {
     "name": "stdout",
     "output_type": "stream",
     "text": [
      "Training Set: 957, Test Set: 411 \n",
      "\n",
      "Sample of features and labels:\n",
      "[51.1 16.5 22.5 52.5] 1 (Gentoo)\n",
      "[50.7 19.7 20.3 40.5] 2 (Chinstrap)\n",
      "[49.5 16.2 22.9 58. ] 1 (Gentoo)\n",
      "[39.3 20.6 19.  36.5] 0 (Adelie)\n",
      "[42.5 20.7 19.7 45. ] 0 (Adelie)\n",
      "[50.  15.3 22.  55.5] 1 (Gentoo)\n",
      "[50.2  18.7  19.8  37.75] 2 (Chinstrap)\n",
      "[50.7 19.7 20.3 40.5] 2 (Chinstrap)\n",
      "[49.1  14.5  21.2  46.25] 1 (Gentoo)\n",
      "[43.2 16.6 18.7 29. ] 2 (Chinstrap)\n",
      "[38.8  17.6  19.1  32.75] 0 (Adelie)\n",
      "[37.8 17.1 18.6 33. ] 0 (Adelie)\n",
      "[45.8 14.2 21.9 47. ] 1 (Gentoo)\n",
      "[43.8 13.9 20.8 43. ] 1 (Gentoo)\n",
      "[36.  17.1 18.7 37. ] 0 (Adelie)\n",
      "[43.3 13.4 20.9 44. ] 1 (Gentoo)\n",
      "[36.  18.5 18.6 31. ] 0 (Adelie)\n",
      "[41.1  19.   18.2  34.25] 0 (Adelie)\n",
      "[33.1 16.1 17.8 29. ] 0 (Adelie)\n",
      "[40.9 13.7 21.4 46.5] 1 (Gentoo)\n",
      "[45.2 17.8 19.8 39.5] 2 (Chinstrap)\n",
      "[48.4 14.6 21.3 58.5] 1 (Gentoo)\n",
      "[43.6 13.9 21.7 49. ] 1 (Gentoo)\n",
      "[38.5  17.9  19.   33.25] 0 (Adelie)\n"
     ]
    }
   ],
   "source": [
    "from sklearn.model_selection import train_test_split\n",
    "\n",
    "features = ['CulmenLength','CulmenDepth','FlipperLength','BodyMass']\n",
    "label = 'Species'\n",
    "   \n",
    "# Split data 70%-30% into training set and test set\n",
    "x_train, x_test, y_train, y_test = train_test_split(penguins[features].values,\n",
    "                                                    penguins[label].values,\n",
    "                                                    test_size=0.30,\n",
    "                                                    random_state=0)\n",
    "\n",
    "print ('Training Set: %d, Test Set: %d \\n' % (len(x_train), len(x_test)))\n",
    "print(\"Sample of features and labels:\")\n",
    "\n",
    "# Take a look at the first 25 training features and corresponding labels\n",
    "for n in range(0,24):\n",
    "    print(x_train[n], y_train[n], '(' + penguin_classes[y_train[n]] + ')')"
   ]
  },
  {
   "cell_type": "markdown",
   "metadata": {},
   "source": [
    "The *features* are the measurements for each penguin observation, and the *label* is a numeric value that indicates the species of penguin that the observation represents (Adelie, Gentoo, or Chinstrap).\n",
    "\n",
    "## Install and import TensorFlow libraries\n",
    "\n",
    "Since we plan to use TensorFlow to create our penguin classifier, we'll need to run the following two cells to install and import the libraries we intend to use.\n",
    "\n",
    "> **Note** *Keras* is an abstraction layer over the base TensorFlow API. In most common machine learning scenarios, you can use Keras to simplify your code."
   ]
  },
  {
   "attachments": {},
   "cell_type": "markdown",
   "metadata": {},
   "source": [
    "features*は各ペンギン観測の測定値で、*label*はその観測が表すペンギンの種（Adelie、Gentoo、またはChinstrap）を示す数値である。\n",
    "\n",
    "## TensorFlow ライブラリのインストールとインポート\n",
    "\n",
    "TensorFlowを使用してペンギン分類器を作成する予定なので、以下の2つのセルを実行して、使用する予定のライブラリをインストールし、インポートする必要があります。\n",
    "\n",
    "> 注** **Keras*は、TensorFlowの基本APIを抽象化したレイヤーです。ほとんどの一般的な機械学習シナリオでは、Kerasを使用してコードを簡素化することができます。"
   ]
  },
  {
   "cell_type": "code",
   "execution_count": 17,
   "metadata": {},
   "outputs": [
    {
     "name": "stdout",
     "output_type": "stream",
     "text": [
      "Requirement already satisfied: tensorflow in /Users/rtr-x8/Documents/python3-ms-tutrial/pckag/env/lib/python3.8/site-packages (2.11.0)\n",
      "Requirement already satisfied: typing-extensions>=3.6.6 in /Users/rtr-x8/Documents/python3-ms-tutrial/pckag/env/lib/python3.8/site-packages (from tensorflow) (4.5.0)\n",
      "Requirement already satisfied: keras<2.12,>=2.11.0 in /Users/rtr-x8/Documents/python3-ms-tutrial/pckag/env/lib/python3.8/site-packages (from tensorflow) (2.11.0)\n",
      "Requirement already satisfied: h5py>=2.9.0 in /Users/rtr-x8/Documents/python3-ms-tutrial/pckag/env/lib/python3.8/site-packages (from tensorflow) (3.8.0)\n",
      "Requirement already satisfied: wrapt>=1.11.0 in /Users/rtr-x8/Documents/python3-ms-tutrial/pckag/env/lib/python3.8/site-packages (from tensorflow) (1.15.0)\n",
      "Requirement already satisfied: protobuf<3.20,>=3.9.2 in /Users/rtr-x8/Documents/python3-ms-tutrial/pckag/env/lib/python3.8/site-packages (from tensorflow) (3.19.6)\n",
      "Requirement already satisfied: grpcio<2.0,>=1.24.3 in /Users/rtr-x8/Documents/python3-ms-tutrial/pckag/env/lib/python3.8/site-packages (from tensorflow) (1.51.3)\n",
      "Requirement already satisfied: termcolor>=1.1.0 in /Users/rtr-x8/Documents/python3-ms-tutrial/pckag/env/lib/python3.8/site-packages (from tensorflow) (2.2.0)\n",
      "Requirement already satisfied: opt-einsum>=2.3.2 in /Users/rtr-x8/Documents/python3-ms-tutrial/pckag/env/lib/python3.8/site-packages (from tensorflow) (3.3.0)\n",
      "Requirement already satisfied: google-pasta>=0.1.1 in /Users/rtr-x8/Documents/python3-ms-tutrial/pckag/env/lib/python3.8/site-packages (from tensorflow) (0.2.0)\n",
      "Requirement already satisfied: packaging in /Users/rtr-x8/Documents/python3-ms-tutrial/pckag/env/lib/python3.8/site-packages (from tensorflow) (23.0)\n",
      "Requirement already satisfied: numpy>=1.20 in /Users/rtr-x8/Documents/python3-ms-tutrial/pckag/env/lib/python3.8/site-packages (from tensorflow) (1.24.2)\n",
      "Requirement already satisfied: astunparse>=1.6.0 in /Users/rtr-x8/Documents/python3-ms-tutrial/pckag/env/lib/python3.8/site-packages (from tensorflow) (1.6.3)\n",
      "Requirement already satisfied: setuptools in /Users/rtr-x8/Documents/python3-ms-tutrial/pckag/env/lib/python3.8/site-packages (from tensorflow) (41.2.0)\n",
      "Requirement already satisfied: tensorboard<2.12,>=2.11 in /Users/rtr-x8/Documents/python3-ms-tutrial/pckag/env/lib/python3.8/site-packages (from tensorflow) (2.11.2)\n",
      "Requirement already satisfied: tensorflow-io-gcs-filesystem>=0.23.1 in /Users/rtr-x8/Documents/python3-ms-tutrial/pckag/env/lib/python3.8/site-packages (from tensorflow) (0.31.0)\n",
      "Requirement already satisfied: absl-py>=1.0.0 in /Users/rtr-x8/Documents/python3-ms-tutrial/pckag/env/lib/python3.8/site-packages (from tensorflow) (1.4.0)\n",
      "Requirement already satisfied: flatbuffers>=2.0 in /Users/rtr-x8/Documents/python3-ms-tutrial/pckag/env/lib/python3.8/site-packages (from tensorflow) (23.3.3)\n",
      "Requirement already satisfied: tensorflow-estimator<2.12,>=2.11.0 in /Users/rtr-x8/Documents/python3-ms-tutrial/pckag/env/lib/python3.8/site-packages (from tensorflow) (2.11.0)\n",
      "Requirement already satisfied: gast<=0.4.0,>=0.2.1 in /Users/rtr-x8/Documents/python3-ms-tutrial/pckag/env/lib/python3.8/site-packages (from tensorflow) (0.4.0)\n",
      "Requirement already satisfied: libclang>=13.0.0 in /Users/rtr-x8/Documents/python3-ms-tutrial/pckag/env/lib/python3.8/site-packages (from tensorflow) (15.0.6.1)\n",
      "Requirement already satisfied: six>=1.12.0 in /Users/rtr-x8/Documents/python3-ms-tutrial/pckag/env/lib/python3.8/site-packages (from tensorflow) (1.16.0)\n",
      "Requirement already satisfied: wheel<1.0,>=0.23.0 in /Users/rtr-x8/Documents/python3-ms-tutrial/pckag/env/lib/python3.8/site-packages (from astunparse>=1.6.0->tensorflow) (0.38.4)\n",
      "Requirement already satisfied: google-auth-oauthlib<0.5,>=0.4.1 in /Users/rtr-x8/Documents/python3-ms-tutrial/pckag/env/lib/python3.8/site-packages (from tensorboard<2.12,>=2.11->tensorflow) (0.4.6)\n",
      "Requirement already satisfied: requests<3,>=2.21.0 in /Users/rtr-x8/Documents/python3-ms-tutrial/pckag/env/lib/python3.8/site-packages (from tensorboard<2.12,>=2.11->tensorflow) (2.28.2)\n",
      "Requirement already satisfied: tensorboard-plugin-wit>=1.6.0 in /Users/rtr-x8/Documents/python3-ms-tutrial/pckag/env/lib/python3.8/site-packages (from tensorboard<2.12,>=2.11->tensorflow) (1.8.1)\n",
      "Requirement already satisfied: tensorboard-data-server<0.7.0,>=0.6.0 in /Users/rtr-x8/Documents/python3-ms-tutrial/pckag/env/lib/python3.8/site-packages (from tensorboard<2.12,>=2.11->tensorflow) (0.6.1)\n",
      "Requirement already satisfied: google-auth<3,>=1.6.3 in /Users/rtr-x8/Documents/python3-ms-tutrial/pckag/env/lib/python3.8/site-packages (from tensorboard<2.12,>=2.11->tensorflow) (2.16.2)\n",
      "Requirement already satisfied: werkzeug>=1.0.1 in /Users/rtr-x8/Documents/python3-ms-tutrial/pckag/env/lib/python3.8/site-packages (from tensorboard<2.12,>=2.11->tensorflow) (2.2.3)\n",
      "Requirement already satisfied: markdown>=2.6.8 in /Users/rtr-x8/Documents/python3-ms-tutrial/pckag/env/lib/python3.8/site-packages (from tensorboard<2.12,>=2.11->tensorflow) (3.4.1)\n",
      "Requirement already satisfied: rsa<5,>=3.1.4 in /Users/rtr-x8/Documents/python3-ms-tutrial/pckag/env/lib/python3.8/site-packages (from google-auth<3,>=1.6.3->tensorboard<2.12,>=2.11->tensorflow) (4.9)\n",
      "Requirement already satisfied: pyasn1-modules>=0.2.1 in /Users/rtr-x8/Documents/python3-ms-tutrial/pckag/env/lib/python3.8/site-packages (from google-auth<3,>=1.6.3->tensorboard<2.12,>=2.11->tensorflow) (0.2.8)\n",
      "Requirement already satisfied: cachetools<6.0,>=2.0.0 in /Users/rtr-x8/Documents/python3-ms-tutrial/pckag/env/lib/python3.8/site-packages (from google-auth<3,>=1.6.3->tensorboard<2.12,>=2.11->tensorflow) (5.3.0)\n",
      "Requirement already satisfied: requests-oauthlib>=0.7.0 in /Users/rtr-x8/Documents/python3-ms-tutrial/pckag/env/lib/python3.8/site-packages (from google-auth-oauthlib<0.5,>=0.4.1->tensorboard<2.12,>=2.11->tensorflow) (1.3.1)\n",
      "Requirement already satisfied: importlib-metadata>=4.4 in /Users/rtr-x8/Documents/python3-ms-tutrial/pckag/env/lib/python3.8/site-packages (from markdown>=2.6.8->tensorboard<2.12,>=2.11->tensorflow) (6.0.0)\n",
      "Requirement already satisfied: certifi>=2017.4.17 in /Users/rtr-x8/Documents/python3-ms-tutrial/pckag/env/lib/python3.8/site-packages (from requests<3,>=2.21.0->tensorboard<2.12,>=2.11->tensorflow) (2022.12.7)\n",
      "Requirement already satisfied: urllib3<1.27,>=1.21.1 in /Users/rtr-x8/Documents/python3-ms-tutrial/pckag/env/lib/python3.8/site-packages (from requests<3,>=2.21.0->tensorboard<2.12,>=2.11->tensorflow) (1.26.15)\n",
      "Requirement already satisfied: idna<4,>=2.5 in /Users/rtr-x8/Documents/python3-ms-tutrial/pckag/env/lib/python3.8/site-packages (from requests<3,>=2.21.0->tensorboard<2.12,>=2.11->tensorflow) (3.4)\n",
      "Requirement already satisfied: charset-normalizer<4,>=2 in /Users/rtr-x8/Documents/python3-ms-tutrial/pckag/env/lib/python3.8/site-packages (from requests<3,>=2.21.0->tensorboard<2.12,>=2.11->tensorflow) (3.1.0)\n",
      "Requirement already satisfied: MarkupSafe>=2.1.1 in /Users/rtr-x8/Documents/python3-ms-tutrial/pckag/env/lib/python3.8/site-packages (from werkzeug>=1.0.1->tensorboard<2.12,>=2.11->tensorflow) (2.1.2)\n",
      "Requirement already satisfied: zipp>=0.5 in /Users/rtr-x8/Documents/python3-ms-tutrial/pckag/env/lib/python3.8/site-packages (from importlib-metadata>=4.4->markdown>=2.6.8->tensorboard<2.12,>=2.11->tensorflow) (3.14.0)\n",
      "Requirement already satisfied: pyasn1<0.5.0,>=0.4.6 in /Users/rtr-x8/Documents/python3-ms-tutrial/pckag/env/lib/python3.8/site-packages (from pyasn1-modules>=0.2.1->google-auth<3,>=1.6.3->tensorboard<2.12,>=2.11->tensorflow) (0.4.8)\n",
      "Requirement already satisfied: oauthlib>=3.0.0 in /Users/rtr-x8/Documents/python3-ms-tutrial/pckag/env/lib/python3.8/site-packages (from requests-oauthlib>=0.7.0->google-auth-oauthlib<0.5,>=0.4.1->tensorboard<2.12,>=2.11->tensorflow) (3.2.2)\n"
     ]
    }
   ],
   "source": [
    "!pip install --upgrade tensorflow"
   ]
  },
  {
   "cell_type": "code",
   "execution_count": 18,
   "metadata": {
    "tags": []
   },
   "outputs": [
    {
     "name": "stdout",
     "output_type": "stream",
     "text": [
      "Libraries imported.\n",
      "Keras version: 2.11.0\n",
      "TensorFlow version: 2.11.0\n"
     ]
    }
   ],
   "source": [
    "import tensorflow\n",
    "from tensorflow import keras\n",
    "from tensorflow.keras import models\n",
    "from tensorflow.keras.models import Sequential\n",
    "from tensorflow.keras.layers import Dense\n",
    "from tensorflow.keras import utils\n",
    "from tensorflow.keras import optimizers\n",
    "\n",
    "# Set random seed for reproducability\n",
    "tensorflow.random.set_seed(0)\n",
    "\n",
    "print(\"Libraries imported.\")\n",
    "print('Keras version:',keras.__version__)\n",
    "print('TensorFlow version:',tensorflow.__version__)"
   ]
  },
  {
   "cell_type": "markdown",
   "metadata": {},
   "source": [
    "## Prepare the data for TensorFlow\n",
    "\n",
    "We've already loaded our data and split it into training and validation datasets. However, we need to do some further data preparation so that our data will work correctly with TensorFlow. Specifically, we need to set the data type of our features to 32-bit floating point numbers, and specify that the labels represent categorical classes rather than numeric values."
   ]
  },
  {
   "attachments": {},
   "cell_type": "markdown",
   "metadata": {},
   "source": [
    "## TensorFlow用のデータを準備する。\n",
    "\n",
    "すでにデータをロードし、訓練用と検証用のデータセットに分割しました。しかし、TensorFlowでデータが正しく動作するように、さらにいくつかのデータ準備をする必要があります。具体的には、特徴量のデータ型を32ビット浮動小数点数に設定し、ラベルが数値ではなくカテゴリークラスを表すように指定する必要があります。"
   ]
  },
  {
   "cell_type": "code",
   "execution_count": 31,
   "metadata": {
    "tags": []
   },
   "outputs": [
    {
     "name": "stdout",
     "output_type": "stream",
     "text": [
      "[[51.1 16.5 22.5 52.5]\n",
      " [50.7 19.7 20.3 40.5]\n",
      " [49.5 16.2 22.9 58. ]\n",
      " ...\n",
      " [48.7 15.7 20.8 53.5]\n",
      " [46.2 14.4 21.4 46.5]\n",
      " [39.1 18.7 18.1 37.5]] \n",
      "\n",
      "\n",
      " [[34.6  21.1  19.8  44.  ]\n",
      " [37.6  19.1  19.4  37.5 ]\n",
      " [47.3  13.8  21.6  47.25]\n",
      " ...\n",
      " [48.5  15.   21.9  48.5 ]\n",
      " [38.6  21.2  19.1  38.  ]\n",
      " [41.4  18.5  20.2  38.75]] \n",
      "\n",
      "\n",
      " [1 2 1 0 0 1 2 2 1 2 0 0 1 1 0 1 0 0 0 1 2 1 1 0 1 2 1 1 2 0 2 0 1 1 2 0 0\n",
      " 1 0 2 2 0 1 2 0 1 2 2 0 1 0 0 0 2 0 1 0 1 0 0 2 0 2 1 1 0 0 0 1 2 0 1 1 1\n",
      " 0 0 1 0 2 1 1 0 0 2 1 1 1 0 0 0 1 0 1 1 1 0 1 2 2 1 0 1 0 0 2 0 1 0 0 2 1\n",
      " 1 1 2 1 0 0 0 1 0 1 0 2 1 0 1 1 1 0 0 1 0 1 0 1 0 1 0 0 1 2 2 0 1 1 1 1 0\n",
      " 1 0 2 0 1 0 2 1 0 1 0 2 0 1 2 0 0 0 1 1 2 0 1 1 0 1 1 0 2 0 0 0 0 0 0 0 1\n",
      " 1 1 0 0 0 0 1 0 0 0 0 1 1 0 1 2 2 1 0 1 1 2 1 1 0 2 0 1 1 1 1 0 0 1 0 0 2\n",
      " 0 0 1 2 0 1 0 1 0 2 1 0 0 0 1 0 2 0 0 1 0 1 0 0 0 2 1 2 2 1 1 2 1 2 0 1 0\n",
      " 2 1 2 2 0 1 0 2 2 0 1 2 0 0 0 0 0 1 0 2 1 0 2 2 0 1 1 0 0 1 1 1 2 0 0 1 1\n",
      " 0 1 1 0 2 0 0 0 0 1 2 1 2 1 1 0 0 2 2 1 2 2 1 1 2 1 1 0 0 0 2 0 0 1 1 0 0\n",
      " 2 1 2 0 0 0 0 2 0 1 0 1 0 1 2 0 2 0 1 0 2 0 0 0 0 1 0 0 0 0 0 1 0 2 0 1 0\n",
      " 0 1 0 1 1 1 2 0 1 2 1 0 1 1 0 0 0 1 1 2 0 2 1 0 1 2 1 0 1 0 0 2 2 0 1 1 0\n",
      " 2 0 0 0 0 2 1 0 1 2 1 2 0 1 0 0 0 2 1 0 2 0 0 2 0 1 0 1 2 1 1 1 1 1 0 1 0\n",
      " 1 0 2 0 0 2 0 0 0 0 1 0 1 0 0 0 1 1 1 0 1 0 1 0 1 2 1 1 0 0 2 0 1 0 0 2 0\n",
      " 1 0 0 0 0 1 0 0 0 0 1 2 2 0 0 2 2 0 0 2 0 1 0 0 0 0 2 0 1 2 0 0 1 1 1 0 0\n",
      " 0 0 1 0 2 1 0 0 2 0 1 0 0 1 1 2 0 1 2 0 2 0 0 0 0 1 0 0 1 2 0 2 2 0 2 0 0\n",
      " 1 0 2 0 1 0 2 2 1 0 1 0 2 1 1 1 1 0 0 1 2 0 2 1 1 1 0 1 1 0 1 2 2 0 1 2 1\n",
      " 0 2 1 1 1 1 0 0 1 2 0 0 0 0 0 1 1 0 0 2 0 0 1 1 1 2 1 0 2 0 1 0 2 1 1 0 2\n",
      " 0 2 0 0 1 1 2 1 0 1 1 0 1 1 2 0 1 0 1 0 0 1 0 0 1 1 0 2 1 1 0 0 0 0 1 2 1\n",
      " 2 1 1 0 0 2 1 0 0 0 1 0 0 1 0 1 0 1 1 0 2 1 1 0 0 2 0 2 0 1 1 0 0 0 0 0 1\n",
      " 1 2 0 2 2 0 1 1 1 0 1 1 2 1 0 0 0 1 1 1 0 1 1 1 0 1 0 1 1 1 2 0 0 1 2 0 0\n",
      " 2 0 1 2 0 1 0 2 1 0 1 2 0 0 1 1 1 0 2 1 2 0 1 0 1 1 0 0 2 2 1 2 2 0 0 1 0\n",
      " 0 0 0 1 2 1 2 0 1 1 1 2 0 0 2 1 2 0 1 1 0 0 0 1 0 0 1 1 1 2 0 0 2 2 1 0 1\n",
      " 0 2 0 1 2 2 0 0 1 1 2 0 0 1 0 0 2 0 0 1 0 0 0 0 2 0 0 0 1 1 0 0 1 0 0 1 0\n",
      " 0 0 0 1 1 0 0 1 1 0 2 0 0 1 1 0 1 1 0 1 0 0 1 1 0 1 1 2 0 2 0 2 0 2 1 0 2\n",
      " 1 1 0 0 0 0 0 0 2 0 1 1 2 0 0 2 1 0 0 2 0 0 0 1 1 1 2 1 1 0 1 1 2 0 1 2 0\n",
      " 1 0 2 0 2 1 0 1 0 0 2 0 0 0 1 1 1 1 0 1 0 2 1 0 1 2 0 0 1 1 1 0] \n",
      "\n",
      "\n",
      " [0 0 1 0 0 1 2 2 2 0 2 2 2 1 2 0 0 1 1 0 1 1 2 1 0 1 1 0 1 1 2 0 0 1 1 1 0\n",
      " 1 0 2 1 0 1 1 2 2 0 1 1 1 1 1 0 1 1 2 0 0 1 2 1 0 1 2 1 2 1 0 0 0 0 2 0 2\n",
      " 0 2 2 1 1 0 2 0 0 0 0 2 1 2 0 0 2 1 1 0 0 0 1 1 1 1 0 1 0 1 1 1 2 1 1 2 0\n",
      " 1 1 0 0 2 1 2 0 0 2 0 1 0 0 1 1 1 0 0 0 0 0 1 1 0 0 0 0 1 1 0 2 2 0 0 0 0\n",
      " 1 1 0 0 0 0 0 1 1 1 0 1 2 0 1 1 2 1 1 1 1 0 2 1 0 1 1 0 1 0 0 0 2 1 0 0 0\n",
      " 2 0 0 2 0 0 0 2 1 0 1 1 0 1 0 0 2 0 1 1 0 0 0 0 1 1 1 0 0 1 2 2 1 2 1 1 0\n",
      " 0 1 1 1 1 0 0 0 2 2 1 0 1 0 0 2 0 0 0 0 1 2 0 2 1 1 0 1 0 2 0 0 0 0 1 2 0\n",
      " 0 1 0 1 1 0 0 0 2 0 2 1 2 2 0 1 0 0 2 0 0 2 0 1 1 2 2 1 1 1 2 2 0 0 0 0 2\n",
      " 1 1 0 0 2 0 0 2 2 2 1 1 2 1 1 2 0 2 0 0 0 2 0 1 1 0 0 2 0 2 1 0 0 1 1 1 0\n",
      " 2 0 2 1 0 0 2 1 2 2 0 2 2 0 0 0 0 1 2 2 0 2 0 2 1 2 0 0 0 0 0 1 2 2 1 0 1\n",
      " 1 0 1 0 2 0 2 0 1 1 0 1 0 1 1 0 1 0 1 2 1 0 2 1 1 1 0 0 1 0 2 1 1 0 1 1 1\n",
      " 1 1 0 0]\n",
      "[[51.1 16.5 22.5 52.5]\n",
      " [50.7 19.7 20.3 40.5]\n",
      " [49.5 16.2 22.9 58. ]\n",
      " ...\n",
      " [48.7 15.7 20.8 53.5]\n",
      " [46.2 14.4 21.4 46.5]\n",
      " [39.1 18.7 18.1 37.5]] \n",
      "\n",
      "\n",
      " [[34.6  21.1  19.8  44.  ]\n",
      " [37.6  19.1  19.4  37.5 ]\n",
      " [47.3  13.8  21.6  47.25]\n",
      " ...\n",
      " [48.5  15.   21.9  48.5 ]\n",
      " [38.6  21.2  19.1  38.  ]\n",
      " [41.4  18.5  20.2  38.75]] \n",
      "\n",
      "\n",
      " [[0. 1. 0.]\n",
      " [0. 0. 1.]\n",
      " [0. 1. 0.]\n",
      " ...\n",
      " [0. 1. 0.]\n",
      " [0. 1. 0.]\n",
      " [1. 0. 0.]] \n",
      "\n",
      "\n",
      " [[1. 0. 0.]\n",
      " [1. 0. 0.]\n",
      " [0. 1. 0.]\n",
      " ...\n",
      " [0. 1. 0.]\n",
      " [1. 0. 0.]\n",
      " [1. 0. 0.]]\n",
      "Ready...\n"
     ]
    }
   ],
   "source": [
    "print(x_train, '\\n\\n\\n', x_test, '\\n\\n\\n', y_train,\n",
    "      '\\n\\n\\n', y_test)  \n",
    "# Set data types for float features\n",
    "x_train = x_train.astype('float32')\n",
    "x_test = x_test.astype('float32')\n",
    "\n",
    "# Set data types for categorical labels\n",
    "y_train = utils.to_categorical(y_train)\n",
    "y_test = utils.to_categorical(y_test)\n",
    "print(x_train, '\\n\\n\\n', x_test, '\\n\\n\\n', y_train, '\\n\\n\\n', y_test)\n",
    "\n",
    "print('Ready...')"
   ]
  },
  {
   "cell_type": "markdown",
   "metadata": {},
   "source": [
    "## Define a neural network\n",
    "\n",
    "Now we're ready to define our neural network. In this case, we'll create a network that consists of 3 fully-connected layers:\n",
    "* An input layer that receives an input value for each feature (in this case, the four penguin measurements) and applies a *ReLU* activation function.\n",
    "* A hidden layer that receives ten inputs and applies a *ReLU* activation function.\n",
    "* An output layer that uses a *SoftMax* activation function to generate an output for each penguin species (which represent the classification probabilities for each of the three possible penguin species). Softmax functions produce a vector with probability values that sum to 1."
   ]
  },
  {
   "attachments": {},
   "cell_type": "markdown",
   "metadata": {},
   "source": [
    "## ニューラルネットワークを定義する\n",
    "\n",
    "これで、ニューラルネットワークを定義する準備が整いました。今回は、3つの完全連結層で構成されるネットワークを作成します。\n",
    "* 各特徴（この場合、4つのペンギンの計測値）の入力値を受け取り、*ReLU*活性化関数を適用する入力層。\n",
    "* 10個の入力を受け取り、*ReLU*活性化関数を適用する隠れ層。\n",
    "* 出力層では、*SoftMax*活性化関数を使用して、各ペンギン種の出力を生成します（これは、3つの可能なペンギン種のそれぞれの分類確率を表します）。ソフトマックス関数は、確率値の合計が1になるベクトルを生成します。"
   ]
  },
  {
   "cell_type": "code",
   "execution_count": 20,
   "metadata": {
    "tags": []
   },
   "outputs": [
    {
     "name": "stdout",
     "output_type": "stream",
     "text": [
      "Model: \"sequential_1\"\n",
      "_________________________________________________________________\n",
      " Layer (type)                Output Shape              Param #   \n",
      "=================================================================\n",
      " dense_3 (Dense)             (None, 10)                50        \n",
      "                                                                 \n",
      " dense_4 (Dense)             (None, 10)                110       \n",
      "                                                                 \n",
      " dense_5 (Dense)             (None, 3)                 33        \n",
      "                                                                 \n",
      "=================================================================\n",
      "Total params: 193\n",
      "Trainable params: 193\n",
      "Non-trainable params: 0\n",
      "_________________________________________________________________\n",
      "None\n"
     ]
    }
   ],
   "source": [
    "# Define a classifier network\n",
    "hl = 10 # Number of hidden layer nodes\n",
    "\n",
    "model = Sequential()\n",
    "model.add(Dense(hl, input_dim=len(features), activation='relu'))\n",
    "model.add(Dense(hl, input_dim=hl, activation='relu'))\n",
    "model.add(Dense(len(penguin_classes), input_dim=hl, activation='softmax'))\n",
    "\n",
    "print(model.summary())"
   ]
  },
  {
   "cell_type": "markdown",
   "metadata": {},
   "source": [
    "## Train the model\n",
    "\n",
    "To train the model, we need to repeatedly feed the training values forward through the network, use a loss function to calculate the loss, use an optimizer to backpropagate the weight and bias value adjustments, and validate the model using the test data we withheld.\n",
    "\n",
    "To do this, we'll apply an Adam optimizer to a categorical cross-entropy loss function iteratively over 50 epochs."
   ]
  },
  {
   "attachments": {},
   "cell_type": "markdown",
   "metadata": {},
   "source": [
    "## モデルの訓練\n",
    "\n",
    "モデルを学習させるためには、学習値をネットワークに繰り返し送り込み、損失関数を使って損失を計算し、オプティマイザを使って重みとバイアス値の調整をバックプロパゲートし、保留したテストデータを使ってモデルの検証を行う必要があります。\n",
    "\n",
    "そのために、Adamオプティマイザをカテゴリ別クロスエントロピー損失関数に適用し、50エポックかけて繰り返し実行します。"
   ]
  },
  {
   "cell_type": "code",
   "execution_count": 32,
   "metadata": {
    "scrolled": true,
    "tags": []
   },
   "outputs": [
    {
     "name": "stderr",
     "output_type": "stream",
     "text": [
      "WARNING:absl:`lr` is deprecated, please use `learning_rate` instead, or use the legacy optimizer, e.g.,tf.keras.optimizers.legacy.Adam.\n"
     ]
    },
    {
     "name": "stdout",
     "output_type": "stream",
     "text": [
      "Epoch 1/50\n",
      "96/96 [==============================] - 1s 4ms/step - loss: 0.0250 - accuracy: 0.9906 - val_loss: 0.0196 - val_accuracy: 0.9951\n",
      "Epoch 2/50\n",
      "96/96 [==============================] - 0s 3ms/step - loss: 0.0269 - accuracy: 0.9916 - val_loss: 0.0191 - val_accuracy: 0.9951\n",
      "Epoch 3/50\n",
      "96/96 [==============================] - 0s 3ms/step - loss: 0.0373 - accuracy: 0.9833 - val_loss: 0.0525 - val_accuracy: 0.9781\n",
      "Epoch 4/50\n",
      "96/96 [==============================] - 0s 3ms/step - loss: 0.0299 - accuracy: 0.9896 - val_loss: 0.0187 - val_accuracy: 0.9951\n",
      "Epoch 5/50\n",
      "96/96 [==============================] - 0s 3ms/step - loss: 0.0219 - accuracy: 0.9916 - val_loss: 0.0399 - val_accuracy: 0.9830\n",
      "Epoch 6/50\n",
      "96/96 [==============================] - 0s 3ms/step - loss: 0.0222 - accuracy: 0.9927 - val_loss: 0.0279 - val_accuracy: 0.9878\n",
      "Epoch 7/50\n",
      "96/96 [==============================] - 0s 3ms/step - loss: 0.0316 - accuracy: 0.9843 - val_loss: 0.0209 - val_accuracy: 0.9951\n",
      "Epoch 8/50\n",
      "96/96 [==============================] - 0s 4ms/step - loss: 0.0239 - accuracy: 0.9916 - val_loss: 0.0201 - val_accuracy: 0.9927\n",
      "Epoch 9/50\n",
      "96/96 [==============================] - 0s 3ms/step - loss: 0.0253 - accuracy: 0.9916 - val_loss: 0.0187 - val_accuracy: 0.9976\n",
      "Epoch 10/50\n",
      "96/96 [==============================] - 0s 4ms/step - loss: 0.0223 - accuracy: 0.9896 - val_loss: 0.0325 - val_accuracy: 0.9830\n",
      "Epoch 11/50\n",
      "96/96 [==============================] - 0s 3ms/step - loss: 0.0201 - accuracy: 0.9916 - val_loss: 0.0345 - val_accuracy: 0.9854\n",
      "Epoch 12/50\n",
      "96/96 [==============================] - 0s 3ms/step - loss: 0.0300 - accuracy: 0.9843 - val_loss: 0.0173 - val_accuracy: 0.9951\n",
      "Epoch 13/50\n",
      "96/96 [==============================] - 0s 3ms/step - loss: 0.0210 - accuracy: 0.9927 - val_loss: 0.0201 - val_accuracy: 0.9927\n",
      "Epoch 14/50\n",
      "96/96 [==============================] - 0s 3ms/step - loss: 0.0261 - accuracy: 0.9896 - val_loss: 0.0340 - val_accuracy: 0.9805\n",
      "Epoch 15/50\n",
      "96/96 [==============================] - 0s 3ms/step - loss: 0.0255 - accuracy: 0.9916 - val_loss: 0.0269 - val_accuracy: 0.9878\n",
      "Epoch 16/50\n",
      "96/96 [==============================] - 0s 3ms/step - loss: 0.0365 - accuracy: 0.9854 - val_loss: 0.0529 - val_accuracy: 0.9732\n",
      "Epoch 17/50\n",
      "96/96 [==============================] - 0s 2ms/step - loss: 0.0341 - accuracy: 0.9864 - val_loss: 0.0386 - val_accuracy: 0.9854\n",
      "Epoch 18/50\n",
      "96/96 [==============================] - 0s 3ms/step - loss: 0.0282 - accuracy: 0.9864 - val_loss: 0.0189 - val_accuracy: 0.9927\n",
      "Epoch 19/50\n",
      "96/96 [==============================] - 0s 3ms/step - loss: 0.0249 - accuracy: 0.9875 - val_loss: 0.0191 - val_accuracy: 0.9927\n",
      "Epoch 20/50\n",
      "96/96 [==============================] - 0s 2ms/step - loss: 0.0303 - accuracy: 0.9875 - val_loss: 0.0167 - val_accuracy: 0.9951\n",
      "Epoch 21/50\n",
      "96/96 [==============================] - 0s 3ms/step - loss: 0.0223 - accuracy: 0.9927 - val_loss: 0.0337 - val_accuracy: 0.9830\n",
      "Epoch 22/50\n",
      "96/96 [==============================] - 0s 3ms/step - loss: 0.0291 - accuracy: 0.9864 - val_loss: 0.0627 - val_accuracy: 0.9659\n",
      "Epoch 23/50\n",
      "96/96 [==============================] - 0s 2ms/step - loss: 0.0273 - accuracy: 0.9885 - val_loss: 0.0210 - val_accuracy: 0.9927\n",
      "Epoch 24/50\n",
      "96/96 [==============================] - 0s 3ms/step - loss: 0.0216 - accuracy: 0.9896 - val_loss: 0.0297 - val_accuracy: 0.9854\n",
      "Epoch 25/50\n",
      "96/96 [==============================] - 0s 3ms/step - loss: 0.0258 - accuracy: 0.9916 - val_loss: 0.0227 - val_accuracy: 0.9854\n",
      "Epoch 26/50\n",
      "96/96 [==============================] - 0s 3ms/step - loss: 0.0287 - accuracy: 0.9864 - val_loss: 0.0180 - val_accuracy: 0.9927\n",
      "Epoch 27/50\n",
      "96/96 [==============================] - 0s 2ms/step - loss: 0.0194 - accuracy: 0.9916 - val_loss: 0.0167 - val_accuracy: 0.9951\n",
      "Epoch 28/50\n",
      "96/96 [==============================] - 0s 2ms/step - loss: 0.0185 - accuracy: 0.9927 - val_loss: 0.0214 - val_accuracy: 0.9878\n",
      "Epoch 29/50\n",
      "96/96 [==============================] - 0s 3ms/step - loss: 0.0239 - accuracy: 0.9896 - val_loss: 0.0157 - val_accuracy: 0.9951\n",
      "Epoch 30/50\n",
      "96/96 [==============================] - 0s 3ms/step - loss: 0.0158 - accuracy: 0.9958 - val_loss: 0.0552 - val_accuracy: 0.9659\n",
      "Epoch 31/50\n",
      "96/96 [==============================] - 0s 4ms/step - loss: 0.0490 - accuracy: 0.9822 - val_loss: 0.0244 - val_accuracy: 0.9878\n",
      "Epoch 32/50\n",
      "96/96 [==============================] - 0s 3ms/step - loss: 0.0203 - accuracy: 0.9916 - val_loss: 0.0154 - val_accuracy: 0.9951\n",
      "Epoch 33/50\n",
      "96/96 [==============================] - 0s 3ms/step - loss: 0.0270 - accuracy: 0.9885 - val_loss: 0.0157 - val_accuracy: 0.9951\n",
      "Epoch 34/50\n",
      "96/96 [==============================] - 0s 3ms/step - loss: 0.0219 - accuracy: 0.9906 - val_loss: 0.0293 - val_accuracy: 0.9854\n",
      "Epoch 35/50\n",
      "96/96 [==============================] - 0s 3ms/step - loss: 0.0214 - accuracy: 0.9937 - val_loss: 0.0156 - val_accuracy: 0.9976\n",
      "Epoch 36/50\n",
      "96/96 [==============================] - 0s 3ms/step - loss: 0.0197 - accuracy: 0.9927 - val_loss: 0.0174 - val_accuracy: 0.9927\n",
      "Epoch 37/50\n",
      "96/96 [==============================] - 0s 3ms/step - loss: 0.0256 - accuracy: 0.9885 - val_loss: 0.0181 - val_accuracy: 0.9927\n",
      "Epoch 38/50\n",
      "96/96 [==============================] - 0s 4ms/step - loss: 0.0184 - accuracy: 0.9937 - val_loss: 0.0154 - val_accuracy: 0.9976\n",
      "Epoch 39/50\n",
      "96/96 [==============================] - 0s 3ms/step - loss: 0.0192 - accuracy: 0.9937 - val_loss: 0.0151 - val_accuracy: 0.9951\n",
      "Epoch 40/50\n",
      "96/96 [==============================] - 0s 4ms/step - loss: 0.0210 - accuracy: 0.9906 - val_loss: 0.0206 - val_accuracy: 0.9927\n",
      "Epoch 41/50\n",
      "96/96 [==============================] - 0s 3ms/step - loss: 0.0212 - accuracy: 0.9906 - val_loss: 0.0144 - val_accuracy: 0.9976\n",
      "Epoch 42/50\n",
      "96/96 [==============================] - 0s 2ms/step - loss: 0.0217 - accuracy: 0.9906 - val_loss: 0.0161 - val_accuracy: 0.9927\n",
      "Epoch 43/50\n",
      "96/96 [==============================] - 0s 5ms/step - loss: 0.0252 - accuracy: 0.9896 - val_loss: 0.0140 - val_accuracy: 0.9951\n",
      "Epoch 44/50\n",
      "96/96 [==============================] - 0s 5ms/step - loss: 0.0206 - accuracy: 0.9906 - val_loss: 0.0274 - val_accuracy: 0.9903\n",
      "Epoch 45/50\n",
      "96/96 [==============================] - 0s 5ms/step - loss: 0.0199 - accuracy: 0.9916 - val_loss: 0.0168 - val_accuracy: 0.9927\n",
      "Epoch 46/50\n",
      "96/96 [==============================] - 0s 3ms/step - loss: 0.0178 - accuracy: 0.9927 - val_loss: 0.0137 - val_accuracy: 0.9951\n",
      "Epoch 47/50\n",
      "96/96 [==============================] - 0s 3ms/step - loss: 0.0251 - accuracy: 0.9875 - val_loss: 0.0156 - val_accuracy: 0.9927\n",
      "Epoch 48/50\n",
      "96/96 [==============================] - 0s 3ms/step - loss: 0.0206 - accuracy: 0.9906 - val_loss: 0.0248 - val_accuracy: 0.9878\n",
      "Epoch 49/50\n",
      "96/96 [==============================] - 0s 3ms/step - loss: 0.0157 - accuracy: 0.9927 - val_loss: 0.0338 - val_accuracy: 0.9830\n",
      "Epoch 50/50\n",
      "96/96 [==============================] - 0s 3ms/step - loss: 0.0220 - accuracy: 0.9896 - val_loss: 0.0193 - val_accuracy: 0.9903\n"
     ]
    }
   ],
   "source": [
    "#hyper-parameters for optimizer\n",
    "learning_rate = 0.001\n",
    "opt = optimizers.Adam(lr=learning_rate)\n",
    "\n",
    "model.compile(loss='categorical_crossentropy',\n",
    "              optimizer=opt,\n",
    "              metrics=['accuracy'])\n",
    "\n",
    "# Train the model over 50 epochs using 10-observation batches and using the test holdout dataset for validation\n",
    "num_epochs = 50\n",
    "history = model.fit(x_train, y_train, epochs=num_epochs, batch_size=10, validation_data=(x_test, y_test))"
   ]
  },
  {
   "attachments": {},
   "cell_type": "markdown",
   "metadata": {},
   "source": [
    "While the training process is running, let's try to understand what's happening:\n",
    "\n",
    "1. In each *epoch*, the full set of training data is passed forward through the network. There are four features for each observation, and four corresponding nodes in the input layer - so the features for each observation are passed as a vector of four values to that layer. However, for efficiency, the feature vectors are grouped into batches; so actually a matrix of multiple feature vectors is fed in each time.\n",
    "2. The matrix of feature values is processed by a function that performs a weighted sum using initialized weights and bias values. The result of this function is then processed by the activation function for the input layer to constrain the values passed to the nodes in the next layer.\n",
    "3. The weighted sum and activation functions are repeated in each layer. Note that the functions operate on vectors and matrices rather than individual scalar values. In other words, the forward pass is essentially a series of nested linear algebra functions. This is the reason data scientists prefer to use computers with graphical processing units (GPUs), since these are optimized for matrix and vector calculations.\n",
    "4. In the final layer of the network, the output vectors contain a probability value for each possible class (in this case, classes 0, 1, and 2). This vector is processed by a *loss function* to determine how far the values calculated by the network are from the actual values - so for example, suppose the output for a Gentoo penguin (class 1) observation is \\[0.3, 0.4, 0.3\\]. The correct prediction should be \\[0.0, 1.0, 0.0\\], so the variance between the predicted and actual values (how far away the each predicted value is from what it should be) is \\[0.3, 0.6, 0.3\\]. This variance is aggregated for each batch and maintained as a running aggregate to calculate the overall level of error (*loss*) incurred by the training data for the epoch. The accuracy (proportion of correct predictions based on the highest probability value in the output vector) for the training data is also calculated.\n",
    "5. At the end of each epoch, the validation data is passed through the network, and its loss and accuracy are also calculated. It's important to do this because it enables us to compare the performance of the model using data on which it was not trained, helping us determine if it will generalize well for new data or if it's *overfitted* to the training data.\n",
    "6. After all the data has been passed forward through the network, the output of the loss function for the *training* data (but <u>not</u> the *validation* data) is passed to the opimizer. The precise details of how the optimizer processes the loss vary depending on the specific optimization algorithm being used; but fundamentally you can think of the entire network, from the input layer to the loss function as being one big nested (*composite*) function. The optimizer applies some differential calculus to calculate *partial derivatives* for the function with respect to each weight and bias value that was used in the network. It's possible to do this efficiently for a nested function due to something called the *chain rule*, which enables you to determine the derivative of a composite function from the derivatives of its inner function and outer functions. You don't really need to worry about the details of the math here (the optimizer does it for you), but the end result is that the partial derivatives tell us about the slope (or *gradient*) of the loss function with respect to each weight and bias value - in other words, we can determine whether to increase or decrease the weight and bias values in order to decrease the loss.\n",
    "7. Having determined in which direction to adjust the weights and biases, the optimizer uses the *learning rate* to determine by how much to adjust them; and then works backwards through the network in a process called *backpropagation* to assign new values to the weights and biases in each layer.\n",
    "8. Now the next epoch repeats the whole training, validation, and backpropagation process starting with the revised weights and biases from the previous epoch - which hopefully will result in a lower level of loss.\n",
    "9. The process continues like this for 50 epochs.\n",
    "\n",
    "## Review training and validation loss\n",
    "\n",
    "After training is complete, we can examine the loss metrics we recorded while training and validating the model. We're really looking for two things:\n",
    "* The loss should reduce with each epoch, showing that the model is learning the right weights and biases to predict the correct labels.\n",
    "* The training loss and validation loss should follow a similar trend, showing that the model is not overfitting to the training data.\n",
    "\n",
    "Let's plot the loss metrics and see:"
   ]
  },
  {
   "attachments": {},
   "cell_type": "markdown",
   "metadata": {},
   "source": [
    "トレーニングプロセスが実行されている間、何が起こっているのかを理解するようにしましょう。\n",
    "\n",
    "1. 1.各エポックにおいて、訓練データのフルセットがネットワークを通して前方に渡される。各観測には4つの特徴があり、入力層には4つの対応するノードがあります。したがって、各観測の特徴は4つの値のベクトルとしてその層に渡されます。しかし、効率化のため、特徴ベクトルはバッチにまとめられ、実際には複数の特徴ベクトルの行列が毎回入力される。\n",
    "2. 特徴量の行列は、初期化された重みとバイアス値を用いて重み付き和を行う関数で処理される。この関数の結果は、入力層の活性化関数で処理され、次の層のノードに渡される値を制約する。\n",
    "3. 加重和関数と活性化関数は、各層で繰り返される。なお、これらの関数は、個々のスカラー値ではなく、ベクトルや行列を操作する。つまり、フォワードパスは、基本的に一連のネストした線形代数関数である。データサイエンティストがGPU（グラフィカル・プロセッシング・ユニット）を搭載したコンピュータを好んで使用するのは、行列やベクトルの計算に最適化されているためです。\n",
    "4. ネットワークの最終層では、出力ベクトルに各クラス（この場合、クラス0、1、2）の確率値が含まれます。このベクトルは、ネットワークが計算した値が実際の値からどの程度離れているかを判断するための*損失関数*で処理されます。例えば、ジェンツーペンギン（クラス1）の観察結果の出力が、˶[0.3, 0.4, 0.3] だと仮定します。正しい予測値は[0.0, 1.0, 0.0]なので、予測値と実際の値の間の分散（各予測値があるべき値からどれだけ離れているか）は[0.3, 0.6, 0.3] です。この分散をバッチごとに集計し、実行集計として保持することで、そのエポックの学習データで発生したエラー（*損失*）の全体レベルを算出します。また、学習データの精度（出力ベクトルの中で最も高い確率値に基づく正しい予測の割合）も算出される。\n",
    "5. 5.各エポックの終了時に、検証データをネットワークに通し、その損失と精度も計算する。これは、学習していないデータを使ってモデルの性能を比較することができるため、新しいデータに対してうまく一般化できるかどうか、あるいは学習データにオーバーフィットしていないかどうかを判断するのに役立つからです。\n",
    "6. すべてのデータがネットワークを通して転送された後、*トレーニング*データ（ただし、<u>検証*データではない）に対する損失関数の出力がオプティマイザに渡されます。オプティマイザーが損失を処理する方法の正確な詳細は、使用する特定の最適化アルゴリズムによって異なりますが、基本的には、入力層から損失関数まで、ネットワーク全体が1つの大きな入れ子（*複合*）関数であると考えることができます。オプティマイザは微分積分を適用して、ネットワークで使用された各重みとバイアス値に関して、関数の*偏導関数*を計算します。これは、複合関数の導関数を、その内部関数と外部関数の導関数から求めることができる*チェーンルール*と呼ばれるもので、入れ子の関数に対して効率的にこれを行うことが可能である。偏導関数は、各重みとバイアス値に対する損失関数の傾き（または*勾配*）を示すもので、言い換えれば、損失を減らすために重みとバイアスの値を増やすか減らすかを決定することができるのです。\n",
    "7. 7.重みとバイアスを調整する方向を決定したオプティマイザーは、*学習率*を使用して、どの程度調整するかを決定します。そして、*バックプロパゲーション*というプロセスでネットワークを逆行し、各層で重みとバイアスに新しい値を割り当てます。\n",
    "8. 次のエポックでは、前のエポックで修正した重みとバイアスを用いて、トレーニング、検証、バックプロパゲーションのプロセスを繰り返します - うまくいけば、損失のレベルが下がることになります。\n",
    "9. このようなプロセスを50エポック続けます。\n",
    "\n",
    "## トレーニングと検証の損失を見直す\n",
    "\n",
    "トレーニングが完了したら、モデルのトレーニングや検証中に記録した損失メトリクスを調べます。ここでは、2つのことを確認します。\n",
    "* モデルが正しいラベルを予測するために正しい重みとバイアスを学習していることを示す、エポックごとに損失が減少していること。\n",
    "* 訓練損失と検証損失は同じような傾向をたどるはずで、モデルが訓練データにオーバーフィットしていないことを示しています。\n",
    "\n",
    "損失メトリクスをプロットして見てみましょう。"
   ]
  },
  {
   "cell_type": "code",
   "execution_count": 22,
   "metadata": {},
   "outputs": [
    {
     "data": {
      "image/png": "[encoded data removed]",
      "text/plain": [
       "<Figure size 640x480 with 1 Axes>"
      ]
     },
     "metadata": {},
     "output_type": "display_data"
    }
   ],
   "source": [
    "%matplotlib inline\n",
    "from matplotlib import pyplot as plt\n",
    "\n",
    "epoch_nums = range(1,num_epochs+1)\n",
    "training_loss = history.history[\"loss\"]\n",
    "validation_loss = history.history[\"val_loss\"]\n",
    "plt.plot(epoch_nums, training_loss)\n",
    "plt.plot(epoch_nums, validation_loss)\n",
    "plt.xlabel('epoch')\n",
    "plt.ylabel('loss')\n",
    "plt.legend(['training', 'validation'], loc='upper right')\n",
    "plt.show()"
   ]
  },
  {
   "attachments": {},
   "cell_type": "markdown",
   "metadata": {},
   "source": [
    "## View the learned weights and biases\n",
    "\n",
    "The trained model consists of the final weights and biases that were determined by the optimizer during training. Based on our network model we should expect the following values for each layer:\n",
    "* Layer 1: There are four input values going to ten output nodes, so there should be 4 x 10 weights and 10 bias values.\n",
    "* Layer 2: There are ten input values going to ten output nodes, so there should be 10 x 10 weights and 10 bias values.\n",
    "* Layer 3: There are ten input values going to three output nodes, so there should be 10 x 3 weights and 3 bias values."
   ]
  },
  {
   "attachments": {},
   "cell_type": "markdown",
   "metadata": {},
   "source": [
    "## 学習した重みとバイアスを表示する\n",
    "\n",
    "学習済みモデルは、学習中にオプティマイザによって決定された最終的な重みとバイアスで構成されます。今回のネットワークモデルから、各レイヤーには以下のような値が想定されます。\n",
    "* レイヤー1：10個の出力ノードに4個の入力値があるので、4×10個の重みと10個のバイアスがあるはずです。\n",
    "* レイヤー2: 10個の出力ノードに10個の入力値があるので、10×10個の重みと10個のバイアス値があるはずです。\n",
    "* レイヤー3: 10個の入力値が3個の出力ノードに向かうので、10×3個の重みと3個のバイアス値があるはずです。"
   ]
  },
  {
   "cell_type": "code",
   "execution_count": 23,
   "metadata": {
    "tags": []
   },
   "outputs": [
    {
     "name": "stdout",
     "output_type": "stream",
     "text": [
      "------------\n",
      "Weights:\n",
      " [[ 0.05049491 -0.05899882  0.06276881  0.6519708  -0.45320448  0.27733374\n",
      "   0.02723812 -0.3270281  -0.18399459 -0.37275818]\n",
      " [-0.18133748  0.03613132  0.20462528  0.48935845  0.5390487   0.20575641\n",
      "   0.10706386  0.02056044  0.44868994  0.5883888 ]\n",
      " [ 0.5465909   0.5621412  -0.51079506 -0.5440968   0.37457106 -0.4389008\n",
      "   0.3965646  -0.07125342 -0.33000708  0.27269992]\n",
      " [-0.4469949  -0.46579558  0.6212493  -0.4797316   0.3508489   0.533458\n",
      "   0.12151081 -0.1618168  -0.10041118  0.17775875]] \n",
      "Biases:\n",
      " [ 0.          0.         -0.05006569 -0.03405784  0.00057023 -0.02776507\n",
      "  0.03686466  0.          0.          0.02659446]\n",
      "------------\n",
      "Weights:\n",
      " [[ 0.2191925  -0.46987927 -0.23023078 -0.36027217 -0.5471262  -0.09027693\n",
      "  -0.01661175  0.1871674  -0.20165634  0.11419618]\n",
      " [-0.53839344 -0.38815647  0.06986678 -0.3622447   0.44983423 -0.1666775\n",
      "  -0.45420134  0.01035321 -0.33632493  0.06204593]\n",
      " [ 0.18180029 -0.33963686 -0.22052959  0.18843107  0.00307208  0.17772305\n",
      "   0.28570262  0.5253631  -0.3668673   0.38113374]\n",
      " [-0.39843756  0.6408701   0.536157    0.6864069   0.2933675   0.78872037\n",
      "  -0.2794985  -0.23052205  0.264827   -0.30946797]\n",
      " [ 0.03353309  0.23644206 -0.28079808 -0.19702327  0.47615945  0.25342384\n",
      "  -0.61791927 -0.5466227   0.48361298 -0.39045125]\n",
      " [ 0.53319263  0.38139576 -0.4014044  -0.25182065 -0.42321378 -0.05023124\n",
      "   0.30217683  0.07412414 -0.0106545  -0.44619036]\n",
      " [-0.12603131 -0.22149149 -0.34105626  0.06821575  0.16518986 -0.47417393\n",
      "   0.08832797  0.50578433 -0.04307694 -0.53247184]\n",
      " [ 0.31213957  0.36268216  0.1434673  -0.4948665  -0.53854924 -0.04946411\n",
      "  -0.53214586 -0.2399154   0.52660215 -0.3882522 ]\n",
      " [-0.46227673  0.48399282 -0.34263843  0.13023323  0.41893446  0.29451364\n",
      "   0.26093    -0.1986314   0.24624628 -0.23068836]\n",
      " [ 0.4977515  -0.6966277   0.41257     0.53041655 -0.52525324 -0.1805415\n",
      "  -0.4766059  -0.49406323  0.53449225 -0.53475773]] \n",
      "Biases:\n",
      " [ 0.04361641 -0.06709248  0.         -0.05027296  0.         -0.13458191\n",
      " -0.05765273  0.04446322  0.05055711  0.        ]\n",
      "------------\n",
      "Weights:\n",
      " [[ 0.10462575 -0.390709   -0.6401027 ]\n",
      " [-0.7662349  -0.23601934  0.08328256]\n",
      " [-0.06231576 -0.091712   -0.03421563]\n",
      " [ 0.4450753  -1.1162527   0.8488545 ]\n",
      " [ 0.09729409  0.37514865 -0.42322955]\n",
      " [-0.22637776 -0.29017165 -0.03974999]\n",
      " [-0.8187584   0.21488574  0.37934488]\n",
      " [-0.51576406  0.6107204   0.12062006]\n",
      " [ 0.8495914  -0.9694904  -0.33655873]\n",
      " [ 0.1436258   0.01169062 -0.24548191]] \n",
      "Biases:\n",
      " [ 0.00905578  0.16048178 -0.19777223]\n"
     ]
    }
   ],
   "source": [
    "for layer in model.layers:\n",
    "    weights = layer.get_weights()[0]\n",
    "    biases = layer.get_weights()[1]\n",
    "    print('------------\\nWeights:\\n',weights,'\\nBiases:\\n', biases)"
   ]
  },
  {
   "cell_type": "markdown",
   "metadata": {},
   "source": [
    "## Evaluate model performance\n",
    "\n",
    "So, is the model any good? The raw accuracy reported from the validation data would seem to indicate that it predicts pretty well; but it's typically useful to dig a little deeper and compare the predictions for each possible class. A common way to visualize the performance of a classification model is to create a *confusion matrix* that shows a crosstab of correct and incorrect predictions for each class."
   ]
  },
  {
   "attachments": {},
   "cell_type": "markdown",
   "metadata": {},
   "source": [
    "## モデルの性能を評価する\n",
    "\n",
    "では、このモデルは良いものなのでしょうか？検証データから報告された生の精度は、このモデルがかなりよく予測していることを示しているように思えます。しかし、通常はもう少し掘り下げて、可能性のある各クラスの予測値を比較することが有用です。分類モデルの性能を可視化する一般的な方法は、各クラスの予測値の正誤をクロス集計した*混乱マトリックス*を作成することです。"
   ]
  },
  {
   "cell_type": "code",
   "execution_count": 24,
   "metadata": {},
   "outputs": [
    {
     "name": "stdout",
     "output_type": "stream",
     "text": [
      "13/13 [==============================] - 0s 1ms/step\n"
     ]
    },
    {
     "data": {
      "image/png": "[encoded data removed]",
      "text/plain": [
       "<Figure size 640x480 with 2 Axes>"
      ]
     },
     "metadata": {},
     "output_type": "display_data"
    }
   ],
   "source": [
    "# Tensorflow doesn't have a built-in confusion matrix metric, so we'll use SciKit-Learn\n",
    "import numpy as np\n",
    "from sklearn.metrics import confusion_matrix\n",
    "import matplotlib.pyplot as plt\n",
    "%matplotlib inline\n",
    "\n",
    "\n",
    "class_probabilities = model.predict(x_test)\n",
    "predictions = np.argmax(class_probabilities, axis=1)\n",
    "true_labels = np.argmax(y_test, axis=1)\n",
    "\n",
    "# Plot the confusion matrix\n",
    "cm = confusion_matrix(true_labels, predictions)\n",
    "plt.imshow(cm, interpolation=\"nearest\", cmap=plt.cm.Blues)\n",
    "plt.colorbar()\n",
    "tick_marks = np.arange(len(penguin_classes))\n",
    "plt.xticks(tick_marks, penguin_classes, rotation=85)\n",
    "plt.yticks(tick_marks, penguin_classes)\n",
    "plt.xlabel(\"Predicted Species\")\n",
    "plt.ylabel(\"Actual Species\")\n",
    "plt.show()"
   ]
  },
  {
   "cell_type": "markdown",
   "metadata": {},
   "source": [
    "The confusion matrix should show a strong diagonal line indicating that there are more correct than incorrect predictions for each class.\n",
    "\n",
    "## Save the trained model\n",
    "Now that we have a model we believe is reasonably accurate, we can save its trained weights for use later."
   ]
  },
  {
   "attachments": {},
   "cell_type": "markdown",
   "metadata": {},
   "source": [
    "混同行列は、各クラスで不正確な予測よりも正しい予測の方が多いことを示す強い対角線を示すはずです。\n",
    "\n",
    "## 学習済みモデルを保存する\n",
    "ある程度正確だと思われるモデルができたので、その学習済み重みを保存して後で使用することができます。"
   ]
  },
  {
   "cell_type": "code",
   "execution_count": 25,
   "metadata": {},
   "outputs": [
    {
     "name": "stdout",
     "output_type": "stream",
     "text": [
      "model saved as models/penguin-classifier.h5\n"
     ]
    }
   ],
   "source": [
    "# Save the trained model\n",
    "modelFileName = 'models/penguin-classifier.h5'\n",
    "model.save(modelFileName)\n",
    "del model  # deletes the existing model variable\n",
    "print('model saved as', modelFileName)"
   ]
  },
  {
   "cell_type": "markdown",
   "metadata": {},
   "source": [
    "## Use the trained model\n",
    "\n",
    "When we have a new penguin observation, we can use the model to predict the species."
   ]
  },
  {
   "attachments": {},
   "cell_type": "markdown",
   "metadata": {},
   "source": [
    "## 学習済みモデルを使う\n",
    "\n",
    "新しいペンギンの観察ができたときには、このモデルを使って種を予測することができます。"
   ]
  },
  {
   "cell_type": "code",
   "execution_count": 26,
   "metadata": {
    "tags": []
   },
   "outputs": [
    {
     "name": "stdout",
     "output_type": "stream",
     "text": [
      "New sample: [[50.4 15.3 20.  50. ]]\n",
      "1/1 [==============================] - 0s 60ms/step\n",
      "Gentoo\n"
     ]
    }
   ],
   "source": [
    "# Load the saved model\n",
    "model = models.load_model(modelFileName)\n",
    "\n",
    "# CReate a new array of features\n",
    "x_new = np.array([[50.4,15.3,20,50]])\n",
    "print ('New sample: {}'.format(x_new))\n",
    "\n",
    "# Use the model to predict the class\n",
    "class_probabilities = model.predict(x_new)\n",
    "predictions = np.argmax(class_probabilities, axis=1)\n",
    "\n",
    "print(penguin_classes[predictions[0]])"
   ]
  },
  {
   "cell_type": "markdown",
   "metadata": {},
   "source": [
    "## Learn more\n",
    "\n",
    "This notebook was designed to help you understand the basic concepts and principles involved in deep neural networks, using a simple Tensorflow example. To learn more about Tensorflow, take a look at the <a href=\"https://www.tensorflow.org/\" target=\"_blank\">Tensorflow web site</a>."
   ]
  }
 ],
 "metadata": {
  "kernelspec": {
   "display_name": "Python 3",
   "language": "python",
   "name": "python3"
  },
  "language_info": {
   "codemirror_mode": {
    "name": "ipython",
    "version": 3
   },
   "file_extension": ".py",
   "mimetype": "text/x-python",
   "name": "python",
   "nbconvert_exporter": "python",
   "pygments_lexer": "ipython3",
   "version": "3.8.2"
  }
 },
 "nbformat": 4,
 "nbformat_minor": 2
}
